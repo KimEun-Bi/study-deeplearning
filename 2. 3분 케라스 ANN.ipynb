{
 "cells": [
  {
   "cell_type": "markdown",
   "metadata": {},
   "source": [
    "# ANN"
   ]
  },
  {
   "cell_type": "code",
   "execution_count": 1,
   "metadata": {},
   "outputs": [],
   "source": [
    "#분류ANN https://github.com/jskDr/keraspp"
   ]
  },
  {
   "cell_type": "code",
   "execution_count": 1,
   "metadata": {},
   "outputs": [
    {
     "name": "stderr",
     "output_type": "stream",
     "text": [
      "Using TensorFlow backend.\n",
      "C:\\Users\\KIM\\Anaconda3\\lib\\site-packages\\tensorflow\\python\\framework\\dtypes.py:516: FutureWarning: Passing (type, 1) or '1type' as a synonym of type is deprecated; in a future version of numpy, it will be understood as (type, (1,)) / '(1,)type'.\n",
      "  _np_qint8 = np.dtype([(\"qint8\", np.int8, 1)])\n",
      "C:\\Users\\KIM\\Anaconda3\\lib\\site-packages\\tensorflow\\python\\framework\\dtypes.py:517: FutureWarning: Passing (type, 1) or '1type' as a synonym of type is deprecated; in a future version of numpy, it will be understood as (type, (1,)) / '(1,)type'.\n",
      "  _np_quint8 = np.dtype([(\"quint8\", np.uint8, 1)])\n",
      "C:\\Users\\KIM\\Anaconda3\\lib\\site-packages\\tensorflow\\python\\framework\\dtypes.py:518: FutureWarning: Passing (type, 1) or '1type' as a synonym of type is deprecated; in a future version of numpy, it will be understood as (type, (1,)) / '(1,)type'.\n",
      "  _np_qint16 = np.dtype([(\"qint16\", np.int16, 1)])\n",
      "C:\\Users\\KIM\\Anaconda3\\lib\\site-packages\\tensorflow\\python\\framework\\dtypes.py:519: FutureWarning: Passing (type, 1) or '1type' as a synonym of type is deprecated; in a future version of numpy, it will be understood as (type, (1,)) / '(1,)type'.\n",
      "  _np_quint16 = np.dtype([(\"quint16\", np.uint16, 1)])\n",
      "C:\\Users\\KIM\\Anaconda3\\lib\\site-packages\\tensorflow\\python\\framework\\dtypes.py:520: FutureWarning: Passing (type, 1) or '1type' as a synonym of type is deprecated; in a future version of numpy, it will be understood as (type, (1,)) / '(1,)type'.\n",
      "  _np_qint32 = np.dtype([(\"qint32\", np.int32, 1)])\n",
      "C:\\Users\\KIM\\Anaconda3\\lib\\site-packages\\tensorflow\\python\\framework\\dtypes.py:525: FutureWarning: Passing (type, 1) or '1type' as a synonym of type is deprecated; in a future version of numpy, it will be understood as (type, (1,)) / '(1,)type'.\n",
      "  np_resource = np.dtype([(\"resource\", np.ubyte, 1)])\n"
     ]
    }
   ],
   "source": [
    "from keras import models\n",
    "from keras import layers"
   ]
  },
  {
   "cell_type": "code",
   "execution_count": 2,
   "metadata": {},
   "outputs": [],
   "source": [
    "import numpy"
   ]
  },
  {
   "cell_type": "code",
   "execution_count": 3,
   "metadata": {},
   "outputs": [],
   "source": [
    "#분산 방식 모델링을 포함하는 함수형 구현:파라미터 설정 \n",
    "def ANN_models_func(Nin, Nh, Nout):\n",
    "    x = layers.Input(shape=(Nin,)) #입력 계층 정의\n",
    "    h = layers.Activation('relu')(layers.Dense(Nh)(x)) \n",
    "    y = layers.Activation('softmax')(layers.Dense(Nout)(h))\n",
    "    model = models.Model(x, y)\n",
    "    model.compile(loss='categorical_crossentropy', optimizer='adam', metrics=['accuracy'])\n",
    "    return model"
   ]
  },
  {
   "cell_type": "code",
   "execution_count": 4,
   "metadata": {},
   "outputs": [],
   "source": [
    "def ANN_models_func(Nin, Nh, Nout):\n",
    "    x = layers.Input(shape=(Nin,))\n",
    "    h = layers.Activation('relu')(layers.Dense(Nh)(x))\n",
    "    y = layers.Activation('softmax')(layers.Dense(Nout)(h))\n",
    "    model = models.Model(x, y)\n",
    "    model.compile(loss='categorical_crossentropy', optimizer='adam', metrics=['accuracy'])\n",
    "    return model"
   ]
  },
  {
   "cell_type": "code",
   "execution_count": 5,
   "metadata": {},
   "outputs": [],
   "source": [
    "#연쇄 방식 모델링을 포함하는 함수형 구현\n",
    "def ANN_seq_func(Nin, Nh, Nout):\n",
    "    model = models.Sequential() #모델 초기화\n",
    "    model.add(layers.Dense(Nh, activation='relu', input_shape=(Nin,))) #모델 구조 설정\n",
    "    model.add(layers.Dense(Nout, activation='softmax'))\n",
    "    model.compile(loss='categorical_crossentropy',\n",
    "                  optimizer='adam', metrics=['accuracy'])\n",
    "    return model"
   ]
  },
  {
   "cell_type": "code",
   "execution_count": 6,
   "metadata": {},
   "outputs": [],
   "source": [
    "# 분산 방식 모델링을 포함하는 객체지향형 구현\n",
    "class ANN_models_class(models.Model):\n",
    "    def __init__(self, Nin, Nh, Nout):\n",
    "        # Prepare network layers and activate functions\n",
    "        hidden = layers.Dense(Nh) #계층 정의\n",
    "        output = layers.Dense(Nout) #출력 노드 정의\n",
    "        relu = layers.Activation('relu')\n",
    "        softmax = layers.Activation('softmax')\n",
    "\n",
    "        # Connect network elements\n",
    "        x = layers.Input(shape=(Nin,))\n",
    "        h = relu(hidden(x))\n",
    "        y = softmax(output(h))\n",
    "\n",
    "        super().__init__(x, y) #상속받은 부모 클래스의 초기화 진행\n",
    "        self.compile(loss='categorical_crossentropy',\n",
    "                     optimizer='adam', metrics=['accuracy'])"
   ]
  },
  {
   "cell_type": "code",
   "execution_count": 7,
   "metadata": {},
   "outputs": [],
   "source": [
    "#연쇄 방식 모델링을 포함하는 객체 지향형 구현 \n",
    "class ANN_seq_class(models.Sequential):\n",
    "    def __init__(self, Nin, Nh, Nout):\n",
    "        super().__init__()\n",
    "        self.add(layers.Dense(Nh, activation='relu', input_shape=(Nin,)))\n",
    "        self.add(layers.Dense(Nout, activation='softmax'))\n",
    "        self.compile(loss='categorical_crossentropy',\n",
    "                     optimizer='adam', metrics=['accuracy'])"
   ]
  },
  {
   "cell_type": "code",
   "execution_count": 8,
   "metadata": {},
   "outputs": [],
   "source": [
    "#MNIST 6만건의 필기체 숫자 데이터 불러오기\n",
    "import numpy as np"
   ]
  },
  {
   "cell_type": "code",
   "execution_count": 9,
   "metadata": {},
   "outputs": [],
   "source": [
    "from keras import datasets"
   ]
  },
  {
   "cell_type": "code",
   "execution_count": 10,
   "metadata": {},
   "outputs": [],
   "source": [
    "from keras.utils import np_utils "
   ]
  },
  {
   "cell_type": "code",
   "execution_count": 11,
   "metadata": {},
   "outputs": [],
   "source": [
    "(X_train, y_train), (X_test, y_test) = datasets.mnist.load_data()"
   ]
  },
  {
   "cell_type": "code",
   "execution_count": 12,
   "metadata": {},
   "outputs": [],
   "source": [
    "Y_train = np_utils.to_categorical(y_train)\n",
    "Y_test = np_utils.to_categorical(y_test)"
   ]
  },
  {
   "cell_type": "code",
   "execution_count": 13,
   "metadata": {},
   "outputs": [],
   "source": [
    "def Data_func():\n",
    "    (X_train, y_train), (X_test, y_test) = datasets.mnist.load_data()\n",
    "\n",
    "    #0~9까지 숫자로 구성된 출력값을 0과 1로 표현되는 벡터 10개로 변환\n",
    "    Y_train = np_utils.to_categorical(y_train)\n",
    "    Y_test = np_utils.to_categorical(y_test)\n",
    "\n",
    "    #X_train, X_test 에 대한 3차원의 픽셀 종보를 2차원으로 조정\n",
    "    L, W, H = X_train.shape \n",
    "    X_train = X_train.reshape(-1, W * H)  #-1:행렬의 행을 자동 설정\n",
    "    X_test = X_test.reshape(-1, W * H)\n",
    "\n",
    "    #정규화: 0~255 사이의 정수로 구성된 입력값을 255로 나누어 0~1사이 실수로 변환\n",
    "    X_train = X_train / 255.0\n",
    "    X_test = X_test / 255.0\n",
    "\n",
    "    return (X_train, Y_train), (X_test, Y_test)"
   ]
  },
  {
   "cell_type": "code",
   "execution_count": 14,
   "metadata": {},
   "outputs": [
    {
     "data": {
      "text/plain": [
       "array([[0., 0., 0., ..., 0., 0., 0.],\n",
       "       [1., 0., 0., ..., 0., 0., 0.],\n",
       "       [0., 0., 0., ..., 0., 0., 0.],\n",
       "       ...,\n",
       "       [0., 0., 0., ..., 0., 0., 0.],\n",
       "       [0., 0., 0., ..., 0., 0., 0.],\n",
       "       [0., 0., 0., ..., 0., 1., 0.]], dtype=float32)"
      ]
     },
     "execution_count": 14,
     "metadata": {},
     "output_type": "execute_result"
    }
   ],
   "source": [
    "Y_train"
   ]
  },
  {
   "cell_type": "code",
   "execution_count": 15,
   "metadata": {},
   "outputs": [
    {
     "data": {
      "text/plain": [
       "((array([[0., 0., 0., ..., 0., 0., 0.],\n",
       "         [0., 0., 0., ..., 0., 0., 0.],\n",
       "         [0., 0., 0., ..., 0., 0., 0.],\n",
       "         ...,\n",
       "         [0., 0., 0., ..., 0., 0., 0.],\n",
       "         [0., 0., 0., ..., 0., 0., 0.],\n",
       "         [0., 0., 0., ..., 0., 0., 0.]]),\n",
       "  array([[0., 0., 0., ..., 0., 0., 0.],\n",
       "         [1., 0., 0., ..., 0., 0., 0.],\n",
       "         [0., 0., 0., ..., 0., 0., 0.],\n",
       "         ...,\n",
       "         [0., 0., 0., ..., 0., 0., 0.],\n",
       "         [0., 0., 0., ..., 0., 0., 0.],\n",
       "         [0., 0., 0., ..., 0., 1., 0.]], dtype=float32)),\n",
       " (array([[0., 0., 0., ..., 0., 0., 0.],\n",
       "         [0., 0., 0., ..., 0., 0., 0.],\n",
       "         [0., 0., 0., ..., 0., 0., 0.],\n",
       "         ...,\n",
       "         [0., 0., 0., ..., 0., 0., 0.],\n",
       "         [0., 0., 0., ..., 0., 0., 0.],\n",
       "         [0., 0., 0., ..., 0., 0., 0.]]),\n",
       "  array([[0., 0., 0., ..., 1., 0., 0.],\n",
       "         [0., 0., 1., ..., 0., 0., 0.],\n",
       "         [0., 1., 0., ..., 0., 0., 0.],\n",
       "         ...,\n",
       "         [0., 0., 0., ..., 0., 0., 0.],\n",
       "         [0., 0., 0., ..., 0., 0., 0.],\n",
       "         [0., 0., 0., ..., 0., 0., 0.]], dtype=float32)))"
      ]
     },
     "execution_count": 15,
     "metadata": {},
     "output_type": "execute_result"
    }
   ],
   "source": [
    "Data_func()"
   ]
  },
  {
   "cell_type": "code",
   "execution_count": 16,
   "metadata": {},
   "outputs": [],
   "source": [
    "#분류 ANN 학습결과 그래프 구현 <- 하이퍼파라미터 조절\n",
    "import matplotlib.pyplot as plt"
   ]
  },
  {
   "cell_type": "code",
   "execution_count": 17,
   "metadata": {},
   "outputs": [],
   "source": [
    "#손실을 그리는 함수\n",
    "def plot_loss(history):\n",
    "    plt.plot(history.history['loss']) #실제 학습 데이터로 구한 손실값\n",
    "    plt.plot(history.history['val_loss']) #검증 데이터로 구한 손실값\n",
    "    plt.title('Model Loss')\n",
    "    plt.ylabel('Loss')\n",
    "    plt.xlabel('Epoch')\n",
    "    plt.legend(['Train','Test'], loc=0)"
   ]
  },
  {
   "cell_type": "code",
   "execution_count": 18,
   "metadata": {},
   "outputs": [],
   "source": [
    "#정확도를 그리는 함수\n",
    "def plot_acc(history):\n",
    "    plt.plot(history.history['acc'])\n",
    "    plt.plot(history.history['val_acc'])\n",
    "    plt.title('Model accuracy')\n",
    "    plt.ylabel('Accuracy')\n",
    "    plt.xlabel('Epoch')\n",
    "    plt.legend(['Train','Test'], loc=0)"
   ]
  },
  {
   "cell_type": "code",
   "execution_count": 19,
   "metadata": {},
   "outputs": [],
   "source": [
    "#분류 ANN 학습 빌 성능 분석\n",
    "#ANN에 사용할 파라미터 정의\n",
    "def main():\n",
    "    Nin = 784 #길이가 784인 데이터\n",
    "    Nh = 100 #은닉 계층 노드수 지정\n",
    "    number_of_class = 10 #분류할 데이터의 클래스 수\n",
    "    Nout = number_of_class #출력 노드 수 = 클래스 수\n",
    "    model = ANN_seq_class(Nin, Nh, Nout)\n",
    "    (X_train, Y_train), (X_test, Y_test) = Data_func()\n",
    "    \n",
    "    history = model.fit(X_train, Y_train, epochs=5, batch_size=100, validation_split=0.2)\n",
    "    performace_test = model.evaluate(X_test, Y_test, batch_size=100)\n",
    "    print('Test Loss and Accuracy ->', performace_test)\n",
    "    \n",
    "    plot_loss(history)\n",
    "    plt.show()\n",
    "    \n",
    "    plot_acc(history)\n",
    "    plt.show()"
   ]
  },
  {
   "cell_type": "code",
   "execution_count": 20,
   "metadata": {},
   "outputs": [
    {
     "name": "stdout",
     "output_type": "stream",
     "text": [
      "WARNING:tensorflow:From C:\\Users\\KIM\\Anaconda3\\lib\\site-packages\\keras\\backend\\tensorflow_backend.py:422: The name tf.global_variables is deprecated. Please use tf.compat.v1.global_variables instead.\n",
      "\n",
      "Train on 48000 samples, validate on 12000 samples\n",
      "Epoch 1/5\n",
      "48000/48000 [==============================] - 1s 24us/step - loss: 0.3941 - accuracy: 0.8915 - val_loss: 0.2148 - val_accuracy: 0.9388\n",
      "Epoch 2/5\n",
      "48000/48000 [==============================] - 1s 20us/step - loss: 0.1861 - accuracy: 0.9467 - val_loss: 0.1607 - val_accuracy: 0.9537\n",
      "Epoch 3/5\n",
      "48000/48000 [==============================] - 1s 20us/step - loss: 0.1394 - accuracy: 0.9598 - val_loss: 0.1318 - val_accuracy: 0.9609\n",
      "Epoch 4/5\n",
      "48000/48000 [==============================] - 1s 20us/step - loss: 0.1104 - accuracy: 0.9690 - val_loss: 0.1160 - val_accuracy: 0.9671\n",
      "Epoch 5/5\n",
      "48000/48000 [==============================] - 1s 21us/step - loss: 0.0914 - accuracy: 0.9745 - val_loss: 0.1096 - val_accuracy: 0.9675\n",
      "10000/10000 [==============================] - 0s 9us/step\n",
      "Test Loss and Accuracy -> [0.11077416293788701, 0.9677000045776367]\n"
     ]
    },
    {
     "data": {
      "image/png": "[encoded data removed]",
      "text/plain": [
       "<Figure size 432x288 with 1 Axes>"
      ]
     },
     "metadata": {
      "needs_background": "light"
     },
     "output_type": "display_data"
    },
    {
     "ename": "KeyError",
     "evalue": "'acc'",
     "output_type": "error",
     "traceback": [
      "\u001b[1;31m---------------------------------------------------------------------------\u001b[0m",
      "\u001b[1;31mKeyError\u001b[0m                                  Traceback (most recent call last)",
      "\u001b[1;32m<ipython-input-20-c7bc734e5e35>\u001b[0m in \u001b[0;36m<module>\u001b[1;34m\u001b[0m\n\u001b[0;32m      1\u001b[0m \u001b[1;32mif\u001b[0m \u001b[0m__name__\u001b[0m \u001b[1;33m==\u001b[0m \u001b[1;34m'__main__'\u001b[0m\u001b[1;33m:\u001b[0m\u001b[1;33m\u001b[0m\u001b[1;33m\u001b[0m\u001b[0m\n\u001b[1;32m----> 2\u001b[1;33m     \u001b[0mmain\u001b[0m\u001b[1;33m(\u001b[0m\u001b[1;33m)\u001b[0m\u001b[1;33m\u001b[0m\u001b[1;33m\u001b[0m\u001b[0m\n\u001b[0m",
      "\u001b[1;32m<ipython-input-19-8f45b192a9d1>\u001b[0m in \u001b[0;36mmain\u001b[1;34m()\u001b[0m\n\u001b[0;32m     16\u001b[0m     \u001b[0mplt\u001b[0m\u001b[1;33m.\u001b[0m\u001b[0mshow\u001b[0m\u001b[1;33m(\u001b[0m\u001b[1;33m)\u001b[0m\u001b[1;33m\u001b[0m\u001b[1;33m\u001b[0m\u001b[0m\n\u001b[0;32m     17\u001b[0m \u001b[1;33m\u001b[0m\u001b[0m\n\u001b[1;32m---> 18\u001b[1;33m     \u001b[0mplot_acc\u001b[0m\u001b[1;33m(\u001b[0m\u001b[0mhistory\u001b[0m\u001b[1;33m)\u001b[0m\u001b[1;33m\u001b[0m\u001b[1;33m\u001b[0m\u001b[0m\n\u001b[0m\u001b[0;32m     19\u001b[0m     \u001b[0mplt\u001b[0m\u001b[1;33m.\u001b[0m\u001b[0mshow\u001b[0m\u001b[1;33m(\u001b[0m\u001b[1;33m)\u001b[0m\u001b[1;33m\u001b[0m\u001b[1;33m\u001b[0m\u001b[0m\n",
      "\u001b[1;32m<ipython-input-18-555af2ecc799>\u001b[0m in \u001b[0;36mplot_acc\u001b[1;34m(history)\u001b[0m\n\u001b[0;32m      1\u001b[0m \u001b[1;31m#정확도를 그리는 함수\u001b[0m\u001b[1;33m\u001b[0m\u001b[1;33m\u001b[0m\u001b[1;33m\u001b[0m\u001b[0m\n\u001b[0;32m      2\u001b[0m \u001b[1;32mdef\u001b[0m \u001b[0mplot_acc\u001b[0m\u001b[1;33m(\u001b[0m\u001b[0mhistory\u001b[0m\u001b[1;33m)\u001b[0m\u001b[1;33m:\u001b[0m\u001b[1;33m\u001b[0m\u001b[1;33m\u001b[0m\u001b[0m\n\u001b[1;32m----> 3\u001b[1;33m     \u001b[0mplt\u001b[0m\u001b[1;33m.\u001b[0m\u001b[0mplot\u001b[0m\u001b[1;33m(\u001b[0m\u001b[0mhistory\u001b[0m\u001b[1;33m.\u001b[0m\u001b[0mhistory\u001b[0m\u001b[1;33m[\u001b[0m\u001b[1;34m'acc'\u001b[0m\u001b[1;33m]\u001b[0m\u001b[1;33m)\u001b[0m\u001b[1;33m\u001b[0m\u001b[1;33m\u001b[0m\u001b[0m\n\u001b[0m\u001b[0;32m      4\u001b[0m     \u001b[0mplt\u001b[0m\u001b[1;33m.\u001b[0m\u001b[0mplot\u001b[0m\u001b[1;33m(\u001b[0m\u001b[0mhistory\u001b[0m\u001b[1;33m.\u001b[0m\u001b[0mhistory\u001b[0m\u001b[1;33m[\u001b[0m\u001b[1;34m'val_acc'\u001b[0m\u001b[1;33m]\u001b[0m\u001b[1;33m)\u001b[0m\u001b[1;33m\u001b[0m\u001b[1;33m\u001b[0m\u001b[0m\n\u001b[0;32m      5\u001b[0m     \u001b[0mplt\u001b[0m\u001b[1;33m.\u001b[0m\u001b[0mtitle\u001b[0m\u001b[1;33m(\u001b[0m\u001b[1;34m'Model accuracy'\u001b[0m\u001b[1;33m)\u001b[0m\u001b[1;33m\u001b[0m\u001b[1;33m\u001b[0m\u001b[0m\n",
      "\u001b[1;31mKeyError\u001b[0m: 'acc'"
     ]
    }
   ],
   "source": [
    "if __name__ == '__main__':\n",
    "    main()"
   ]
  },
  {
   "cell_type": "markdown",
   "metadata": {},
   "source": [
    "\n",
    "# 회귀 ANN 모델링"
   ]
  },
  {
   "cell_type": "code",
   "execution_count": 21,
   "metadata": {},
   "outputs": [],
   "source": [
    "from keras import layers, models"
   ]
  },
  {
   "cell_type": "code",
   "execution_count": 22,
   "metadata": {},
   "outputs": [],
   "source": [
    "from sklearn import preprocessing"
   ]
  },
  {
   "cell_type": "code",
   "execution_count": 23,
   "metadata": {},
   "outputs": [],
   "source": [
    "class ANN(models.Model):\n",
    "    def __init__(self, Nin, Nh, Nout):\n",
    "        # Prepare network layers and activate functions\n",
    "        hidden = layers.Dense(Nh)\n",
    "        output = layers.Dense(Nout)\n",
    "        relu = layers.Activation('relu')\n",
    "\n",
    "        # Connect network elements\n",
    "        x = layers.Input(shape=(Nin,))\n",
    "        h = relu(hidden(x))\n",
    "        y = output(h)\n",
    "\n",
    "        super().__init__(x, y)\n",
    "\n",
    "        self.compile(loss='mse', optimizer='sgd')"
   ]
  },
  {
   "cell_type": "code",
   "execution_count": 24,
   "metadata": {},
   "outputs": [],
   "source": [
    "from keras import datasets"
   ]
  },
  {
   "cell_type": "code",
   "execution_count": 25,
   "metadata": {},
   "outputs": [],
   "source": [
    "(X_train, y_train), (X_test, y_test) = datasets.boston_housing.load_data()"
   ]
  },
  {
   "cell_type": "code",
   "execution_count": 26,
   "metadata": {},
   "outputs": [],
   "source": [
    "scaler = preprocessing.MinMaxScaler()\n",
    "X_train = scaler.fit_transform(X_train)\n",
    "X_test = scaler.transform(X_test)"
   ]
  },
  {
   "cell_type": "code",
   "execution_count": 27,
   "metadata": {},
   "outputs": [],
   "source": [
    "def Data_func():\n",
    "    (X_train, y_train), (X_test, y_test) = datasets.boston_housing.load_data()\n",
    "    scaler = preprocessing.MinMaxScaler()\n",
    "    X_train = scaler.fit_transform(X_train)\n",
    "    X_test = scaler.transform(X_test)\n",
    "    return (X_train, y_train), (X_test, y_test)"
   ]
  },
  {
   "cell_type": "code",
   "execution_count": 28,
   "metadata": {},
   "outputs": [],
   "source": [
    "from sklearn import preprocessing"
   ]
  },
  {
   "cell_type": "code",
   "execution_count": 29,
   "metadata": {},
   "outputs": [
    {
     "data": {
      "text/plain": [
       "404"
      ]
     },
     "execution_count": 29,
     "metadata": {},
     "output_type": "execute_result"
    }
   ],
   "source": [
    "len(X_train)"
   ]
  },
  {
   "cell_type": "code",
   "execution_count": 30,
   "metadata": {},
   "outputs": [],
   "source": [
    "import matplotlib.pyplot as plt"
   ]
  },
  {
   "cell_type": "code",
   "execution_count": 31,
   "metadata": {},
   "outputs": [
    {
     "ename": "ModuleNotFoundError",
     "evalue": "No module named 'keraspp'",
     "output_type": "error",
     "traceback": [
      "\u001b[1;31m---------------------------------------------------------------------------\u001b[0m",
      "\u001b[1;31mModuleNotFoundError\u001b[0m                       Traceback (most recent call last)",
      "\u001b[1;32m<ipython-input-31-43bd77fe1942>\u001b[0m in \u001b[0;36m<module>\u001b[1;34m\u001b[0m\n\u001b[1;32m----> 1\u001b[1;33m \u001b[1;32mfrom\u001b[0m \u001b[0mkeraspp\u001b[0m\u001b[1;33m.\u001b[0m\u001b[0mskeras\u001b[0m \u001b[1;32mimport\u001b[0m \u001b[0mplot_loss\u001b[0m\u001b[1;33m\u001b[0m\u001b[1;33m\u001b[0m\u001b[0m\n\u001b[0m",
      "\u001b[1;31mModuleNotFoundError\u001b[0m: No module named 'keraspp'"
     ]
    }
   ],
   "source": [
    "from keraspp.skeras import plot_loss"
   ]
  },
  {
   "cell_type": "code",
   "execution_count": 32,
   "metadata": {},
   "outputs": [],
   "source": [
    "Nin =13\n",
    "Nh = 5\n",
    "Nout = 1"
   ]
  },
  {
   "cell_type": "code",
   "execution_count": 33,
   "metadata": {},
   "outputs": [],
   "source": [
    "(X_train, y_train), (X_test, y_test) = Data_func()"
   ]
  },
  {
   "cell_type": "code",
   "execution_count": 34,
   "metadata": {},
   "outputs": [],
   "source": [
    "def main():\n",
    "    Nin =13\n",
    "    Nh = 5\n",
    "    Nout = 1\n",
    "    \n",
    "    model = ANN(Nin, Nh, Nout)\n",
    "    (X_train, y_train), (X_test, y_test) = Data_func()\n",
    "    history = model.fit(X_train, y_train, epochs=100,\n",
    "                        batch_size=100, validation_split=0.2, verbose=2)"
   ]
  },
  {
   "cell_type": "code",
   "execution_count": 35,
   "metadata": {},
   "outputs": [
    {
     "name": "stdout",
     "output_type": "stream",
     "text": [
      "Train on 323 samples, validate on 81 samples\n",
      "Epoch 1/100\n",
      " - 0s - loss: 529.6114 - val_loss: 302.0353\n",
      "Epoch 2/100\n",
      " - 0s - loss: 157.6668 - val_loss: 152.7323\n",
      "Epoch 3/100\n",
      " - 0s - loss: 101.6210 - val_loss: 90.2721\n",
      "Epoch 4/100\n",
      " - 0s - loss: 70.3784 - val_loss: 64.1706\n",
      "Epoch 5/100\n",
      " - 0s - loss: 55.7555 - val_loss: 105.7244\n",
      "Epoch 6/100\n",
      " - 0s - loss: 100.2295 - val_loss: 57.4787\n",
      "Epoch 7/100\n",
      " - 0s - loss: 53.5322 - val_loss: 49.7406\n",
      "Epoch 8/100\n",
      " - 0s - loss: 51.1739 - val_loss: 45.3656\n",
      "Epoch 9/100\n",
      " - 0s - loss: 43.2108 - val_loss: 43.0089\n",
      "Epoch 10/100\n",
      " - 0s - loss: 42.0649 - val_loss: 43.4222\n",
      "Epoch 11/100\n",
      " - 0s - loss: 38.6215 - val_loss: 45.4517\n",
      "Epoch 12/100\n",
      " - 0s - loss: 39.0573 - val_loss: 41.6101\n",
      "Epoch 13/100\n",
      " - 0s - loss: 35.3543 - val_loss: 41.3285\n",
      "Epoch 14/100\n",
      " - 0s - loss: 40.3799 - val_loss: 89.9412\n",
      "Epoch 15/100\n",
      " - 0s - loss: 51.1954 - val_loss: 63.9267\n",
      "Epoch 16/100\n",
      " - 0s - loss: 48.3650 - val_loss: 83.9580\n",
      "Epoch 17/100\n",
      " - 0s - loss: 50.3653 - val_loss: 45.9837\n",
      "Epoch 18/100\n",
      " - 0s - loss: 37.6136 - val_loss: 63.9575\n",
      "Epoch 19/100\n",
      " - 0s - loss: 38.1293 - val_loss: 43.9925\n",
      "Epoch 20/100\n",
      " - 0s - loss: 45.7070 - val_loss: 47.4980\n",
      "Epoch 21/100\n",
      " - 0s - loss: 48.3767 - val_loss: 42.6235\n",
      "Epoch 22/100\n",
      " - 0s - loss: 41.9360 - val_loss: 57.4309\n",
      "Epoch 23/100\n",
      " - 0s - loss: 43.2519 - val_loss: 29.2726\n",
      "Epoch 24/100\n",
      " - 0s - loss: 28.6344 - val_loss: 47.6683\n",
      "Epoch 25/100\n",
      " - 0s - loss: 54.0629 - val_loss: 59.5813\n",
      "Epoch 26/100\n",
      " - 0s - loss: 58.6120 - val_loss: 38.0169\n",
      "Epoch 27/100\n",
      " - 0s - loss: 54.9210 - val_loss: 28.4813\n",
      "Epoch 28/100\n",
      " - 0s - loss: 31.1173 - val_loss: 27.3562\n",
      "Epoch 29/100\n",
      " - 0s - loss: 26.6274 - val_loss: 28.3157\n",
      "Epoch 30/100\n",
      " - 0s - loss: 26.8184 - val_loss: 48.2470\n",
      "Epoch 31/100\n",
      " - 0s - loss: 30.2499 - val_loss: 29.8450\n",
      "Epoch 32/100\n",
      " - 0s - loss: 28.9149 - val_loss: 28.9261\n",
      "Epoch 33/100\n",
      " - 0s - loss: 32.1413 - val_loss: 39.7140\n",
      "Epoch 34/100\n",
      " - 0s - loss: 26.4270 - val_loss: 25.9119\n",
      "Epoch 35/100\n",
      " - 0s - loss: 26.6318 - val_loss: 27.2756\n",
      "Epoch 36/100\n",
      " - 0s - loss: 24.6365 - val_loss: 36.5217\n",
      "Epoch 37/100\n",
      " - 0s - loss: 31.8320 - val_loss: 29.6405\n",
      "Epoch 38/100\n",
      " - 0s - loss: 26.2589 - val_loss: 28.2338\n",
      "Epoch 39/100\n",
      " - 0s - loss: 32.4789 - val_loss: 24.7432\n",
      "Epoch 40/100\n",
      " - 0s - loss: 28.7302 - val_loss: 61.7589\n",
      "Epoch 41/100\n",
      " - 0s - loss: 58.7909 - val_loss: 41.6878\n",
      "Epoch 42/100\n",
      " - 0s - loss: 37.7578 - val_loss: 34.8337\n",
      "Epoch 43/100\n",
      " - 0s - loss: 26.7986 - val_loss: 24.7394\n",
      "Epoch 44/100\n",
      " - 0s - loss: 25.2457 - val_loss: 58.9775\n",
      "Epoch 45/100\n",
      " - 0s - loss: 37.3325 - val_loss: 32.4713\n",
      "Epoch 46/100\n",
      " - 0s - loss: 25.1582 - val_loss: 28.3762\n",
      "Epoch 47/100\n",
      " - 0s - loss: 25.8690 - val_loss: 24.1715\n",
      "Epoch 48/100\n",
      " - 0s - loss: 25.6617 - val_loss: 25.7871\n",
      "Epoch 49/100\n",
      " - 0s - loss: 25.2247 - val_loss: 23.6064\n",
      "Epoch 50/100\n",
      " - 0s - loss: 23.9261 - val_loss: 22.9535\n",
      "Epoch 51/100\n",
      " - 0s - loss: 23.4696 - val_loss: 25.4773\n",
      "Epoch 52/100\n",
      " - 0s - loss: 23.0846 - val_loss: 22.8748\n",
      "Epoch 53/100\n",
      " - 0s - loss: 24.5621 - val_loss: 23.2026\n",
      "Epoch 54/100\n",
      " - 0s - loss: 23.8903 - val_loss: 23.0600\n",
      "Epoch 55/100\n",
      " - 0s - loss: 24.5533 - val_loss: 23.5946\n",
      "Epoch 56/100\n",
      " - 0s - loss: 24.7758 - val_loss: 23.0476\n",
      "Epoch 57/100\n",
      " - 0s - loss: 24.6173 - val_loss: 85.0242\n",
      "Epoch 58/100\n",
      " - 0s - loss: 90.3373 - val_loss: 23.2607\n",
      "Epoch 59/100\n",
      " - 0s - loss: 23.3578 - val_loss: 22.5385\n",
      "Epoch 60/100\n",
      " - 0s - loss: 23.2084 - val_loss: 22.5508\n",
      "Epoch 61/100\n",
      " - 0s - loss: 22.8310 - val_loss: 24.3665\n",
      "Epoch 62/100\n",
      " - 0s - loss: 23.4148 - val_loss: 28.1174\n",
      "Epoch 63/100\n",
      " - 0s - loss: 28.0536 - val_loss: 30.5326\n",
      "Epoch 64/100\n",
      " - 0s - loss: 25.4791 - val_loss: 23.7011\n",
      "Epoch 65/100\n",
      " - 0s - loss: 23.9496 - val_loss: 24.2740\n",
      "Epoch 66/100\n",
      " - 0s - loss: 22.7382 - val_loss: 22.0593\n",
      "Epoch 67/100\n",
      " - 0s - loss: 22.6973 - val_loss: 23.9089\n",
      "Epoch 68/100\n",
      " - 0s - loss: 28.5518 - val_loss: 46.8140\n",
      "Epoch 69/100\n",
      " - 0s - loss: 28.2273 - val_loss: 32.8215\n",
      "Epoch 70/100\n",
      " - 0s - loss: 26.8675 - val_loss: 22.1549\n",
      "Epoch 71/100\n",
      " - 0s - loss: 23.0601 - val_loss: 22.6765\n",
      "Epoch 72/100\n",
      " - 0s - loss: 22.7463 - val_loss: 22.0400\n",
      "Epoch 73/100\n",
      " - 0s - loss: 22.3844 - val_loss: 22.8237\n",
      "Epoch 74/100\n",
      " - 0s - loss: 22.9428 - val_loss: 21.5015\n",
      "Epoch 75/100\n",
      " - 0s - loss: 22.3012 - val_loss: 21.9378\n",
      "Epoch 76/100\n",
      " - 0s - loss: 23.0702 - val_loss: 24.4210\n",
      "Epoch 77/100\n",
      " - 0s - loss: 29.1768 - val_loss: 23.0931\n",
      "Epoch 78/100\n",
      " - 0s - loss: 23.2176 - val_loss: 21.2536\n",
      "Epoch 79/100\n",
      " - 0s - loss: 22.3953 - val_loss: 36.7020\n",
      "Epoch 80/100\n",
      " - 0s - loss: 34.8800 - val_loss: 25.8111\n",
      "Epoch 81/100\n",
      " - 0s - loss: 32.5359 - val_loss: 63.0617\n",
      "Epoch 82/100\n",
      " - 0s - loss: 47.3808 - val_loss: 21.4498\n",
      "Epoch 83/100\n",
      " - 0s - loss: 23.4561 - val_loss: 22.2685\n",
      "Epoch 84/100\n",
      " - 0s - loss: 22.4921 - val_loss: 24.6630\n",
      "Epoch 85/100\n",
      " - 0s - loss: 23.5369 - val_loss: 23.3542\n",
      "Epoch 86/100\n",
      " - 0s - loss: 23.1028 - val_loss: 22.0574\n",
      "Epoch 87/100\n",
      " - 0s - loss: 22.6228 - val_loss: 21.0512\n",
      "Epoch 88/100\n",
      " - 0s - loss: 21.7946 - val_loss: 28.5443\n",
      "Epoch 89/100\n",
      " - 0s - loss: 25.0849 - val_loss: 26.3096\n",
      "Epoch 90/100\n",
      " - 0s - loss: 30.5498 - val_loss: 24.9391\n",
      "Epoch 91/100\n",
      " - 0s - loss: 25.6932 - val_loss: 21.2313\n",
      "Epoch 92/100\n",
      " - 0s - loss: 22.0128 - val_loss: 25.1535\n",
      "Epoch 93/100\n",
      " - 0s - loss: 22.7418 - val_loss: 20.9592\n",
      "Epoch 94/100\n",
      " - 0s - loss: 21.9326 - val_loss: 21.6123\n",
      "Epoch 95/100\n",
      " - 0s - loss: 22.1489 - val_loss: 22.3909\n",
      "Epoch 96/100\n",
      " - 0s - loss: 21.8569 - val_loss: 23.2548\n",
      "Epoch 97/100\n",
      " - 0s - loss: 22.5742 - val_loss: 26.5025\n",
      "Epoch 98/100\n",
      " - 0s - loss: 22.2195 - val_loss: 20.5744\n",
      "Epoch 99/100\n",
      " - 0s - loss: 21.6086 - val_loss: 26.2255\n",
      "Epoch 100/100\n",
      " - 0s - loss: 22.8568 - val_loss: 34.8813\n"
     ]
    }
   ],
   "source": [
    "if __name__ == '__main__':\n",
    "    main()"
   ]
  },
  {
   "cell_type": "code",
   "execution_count": null,
   "metadata": {},
   "outputs": [],
   "source": []
  },
  {
   "cell_type": "code",
   "execution_count": null,
   "metadata": {},
   "outputs": [],
   "source": []
  }
 ],
 "metadata": {
  "kernelspec": {
   "display_name": "Python 3",
   "language": "python",
   "name": "python3"
  },
  "language_info": {
   "codemirror_mode": {
    "name": "ipython",
    "version": 3
   },
   "file_extension": ".py",
   "mimetype": "text/x-python",
   "name": "python",
   "nbconvert_exporter": "python",
   "pygments_lexer": "ipython3",
   "version": "3.7.7"
  }
 },
 "nbformat": 4,
 "nbformat_minor": 4
}
